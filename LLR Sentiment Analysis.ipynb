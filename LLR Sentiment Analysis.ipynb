{
 "cells": [
  {
   "cell_type": "markdown",
   "id": "fd80eab9",
   "metadata": {},
   "source": [
    "## 1. Install and Import Dependencies"
   ]
  },
  {
   "cell_type": "code",
   "execution_count": 1,
   "id": "72ad256d",
   "metadata": {},
   "outputs": [
    {
     "name": "stderr",
     "output_type": "stream",
     "text": [
      "ERROR: Invalid requirement: '#pytorch'\n"
     ]
    }
   ],
   "source": [
    "!pip install torch torchvision torchaudio --index-url https://download.pytorch.org/whl/cu121 #pytorch"
   ]
  },
  {
   "cell_type": "code",
   "execution_count": 2,
   "id": "81957aed",
   "metadata": {},
   "outputs": [
    {
     "name": "stdout",
     "output_type": "stream",
     "text": [
      "Requirement already satisfied: transformers in c:\\users\\uruon\\anaconda3\\lib\\site-packages (4.32.1)\n",
      "Requirement already satisfied: requests in c:\\users\\uruon\\anaconda3\\lib\\site-packages (2.31.0)\n",
      "Requirement already satisfied: beautifulsoup4 in c:\\users\\uruon\\anaconda3\\lib\\site-packages (4.12.2)\n",
      "Requirement already satisfied: pandas in c:\\users\\uruon\\anaconda3\\lib\\site-packages (2.0.3)\n",
      "Requirement already satisfied: numpy in c:\\users\\uruon\\anaconda3\\lib\\site-packages (1.24.3)\n",
      "Requirement already satisfied: filelock in c:\\users\\uruon\\anaconda3\\lib\\site-packages (from transformers) (3.9.0)\n",
      "Requirement already satisfied: huggingface-hub<1.0,>=0.15.1 in c:\\users\\uruon\\anaconda3\\lib\\site-packages (from transformers) (0.15.1)\n",
      "Requirement already satisfied: packaging>=20.0 in c:\\users\\uruon\\anaconda3\\lib\\site-packages (from transformers) (23.1)\n",
      "Requirement already satisfied: pyyaml>=5.1 in c:\\users\\uruon\\anaconda3\\lib\\site-packages (from transformers) (6.0)\n",
      "Requirement already satisfied: regex!=2019.12.17 in c:\\users\\uruon\\anaconda3\\lib\\site-packages (from transformers) (2022.7.9)\n",
      "Requirement already satisfied: tokenizers!=0.11.3,<0.14,>=0.11.1 in c:\\users\\uruon\\anaconda3\\lib\\site-packages (from transformers) (0.13.2)\n",
      "Requirement already satisfied: safetensors>=0.3.1 in c:\\users\\uruon\\anaconda3\\lib\\site-packages (from transformers) (0.3.2)\n",
      "Requirement already satisfied: tqdm>=4.27 in c:\\users\\uruon\\anaconda3\\lib\\site-packages (from transformers) (4.65.0)\n",
      "Requirement already satisfied: charset-normalizer<4,>=2 in c:\\users\\uruon\\anaconda3\\lib\\site-packages (from requests) (2.0.4)\n",
      "Requirement already satisfied: idna<4,>=2.5 in c:\\users\\uruon\\anaconda3\\lib\\site-packages (from requests) (3.4)\n",
      "Requirement already satisfied: urllib3<3,>=1.21.1 in c:\\users\\uruon\\anaconda3\\lib\\site-packages (from requests) (1.26.16)\n",
      "Requirement already satisfied: certifi>=2017.4.17 in c:\\users\\uruon\\anaconda3\\lib\\site-packages (from requests) (2023.7.22)\n",
      "Requirement already satisfied: soupsieve>1.2 in c:\\users\\uruon\\anaconda3\\lib\\site-packages (from beautifulsoup4) (2.4)\n",
      "Requirement already satisfied: python-dateutil>=2.8.2 in c:\\users\\uruon\\anaconda3\\lib\\site-packages (from pandas) (2.8.2)\n",
      "Requirement already satisfied: pytz>=2020.1 in c:\\users\\uruon\\anaconda3\\lib\\site-packages (from pandas) (2023.3.post1)\n",
      "Requirement already satisfied: tzdata>=2022.1 in c:\\users\\uruon\\anaconda3\\lib\\site-packages (from pandas) (2023.3)\n",
      "Requirement already satisfied: fsspec in c:\\users\\uruon\\anaconda3\\lib\\site-packages (from huggingface-hub<1.0,>=0.15.1->transformers) (2023.4.0)\n",
      "Requirement already satisfied: typing-extensions>=3.7.4.3 in c:\\users\\uruon\\anaconda3\\lib\\site-packages (from huggingface-hub<1.0,>=0.15.1->transformers) (4.8.0)\n",
      "Requirement already satisfied: six>=1.5 in c:\\users\\uruon\\anaconda3\\lib\\site-packages (from python-dateutil>=2.8.2->pandas) (1.16.0)\n",
      "Requirement already satisfied: colorama in c:\\users\\uruon\\anaconda3\\lib\\site-packages (from tqdm>=4.27->transformers) (0.4.6)\n"
     ]
    }
   ],
   "source": [
    "#some more dependencies\n",
    "!pip install transformers requests beautifulsoup4 pandas numpy"
   ]
  },
  {
   "cell_type": "code",
   "execution_count": null,
   "id": "6e516c14",
   "metadata": {},
   "outputs": [],
   "source": []
  },
  {
   "cell_type": "code",
   "execution_count": 3,
   "id": "6c4a8ddd",
   "metadata": {},
   "outputs": [],
   "source": [
    "from transformers import AutoTokenizer, AutoModelForSequenceClassification\n",
    "import torch\n",
    "import requests \n",
    "from bs4 import BeautifulSoup #our reviews\n",
    "import re #create a regex function to extract the specific comments we want"
   ]
  },
  {
   "cell_type": "markdown",
   "id": "cde0c8cc",
   "metadata": {},
   "source": [
    "## 2. Instantiate the Model"
   ]
  },
  {
   "cell_type": "code",
   "execution_count": 4,
   "id": "e53ad228",
   "metadata": {},
   "outputs": [
    {
     "name": "stderr",
     "output_type": "stream",
     "text": [
      "C:\\Users\\uruon\\anaconda3\\Lib\\site-packages\\transformers\\utils\\generic.py:260: UserWarning: torch.utils._pytree._register_pytree_node is deprecated. Please use torch.utils._pytree.register_pytree_node instead.\n",
      "  torch.utils._pytree._register_pytree_node(\n"
     ]
    }
   ],
   "source": [
    "#Our tokenizer and model now loaded and setup\n",
    "tokenizer= AutoTokenizer.from_pretrained('nlptown/bert-base-multilingual-uncased-sentiment')\n",
    "model= AutoModelForSequenceClassification.from_pretrained('nlptown/bert-base-multilingual-uncased-sentiment') "
   ]
  },
  {
   "cell_type": "code",
   "execution_count": 5,
   "id": "da58bf78",
   "metadata": {},
   "outputs": [],
   "source": [
    "#https://huggingface.co/nlptown/bert-base-multilingual-uncased-sentiment"
   ]
  },
  {
   "cell_type": "markdown",
   "id": "0f5d7f4b",
   "metadata": {},
   "source": [
    "## 3. Encode and Calculate Sentiment\n",
    "A. Pass through a string or prompt to our tokenizer\n",
    "\n",
    "B. Tokenize it \n",
    "\n",
    "C. And then pass it through to our model and get our classification"
   ]
  },
  {
   "cell_type": "code",
   "execution_count": 6,
   "id": "47f3bfcf",
   "metadata": {},
   "outputs": [],
   "source": [
    "uruTokens = tokenizer.encode(\"To rule over the world, you must rule over yourself first\", return_tensors= 'pt')\n",
    "#passed through a keyword argument to return_tensors and we've set that to py_torch"
   ]
  },
  {
   "cell_type": "code",
   "execution_count": 7,
   "id": "65323277",
   "metadata": {},
   "outputs": [],
   "source": [
    "#For you to test\n",
    "uruTokens = tokenizer.encode(\"A mother and daughter were killed by a bad driver\", return_tensors= 'pt')\n",
    "#passed through a keyword argument to return_tensors and we've set that to py_torch"
   ]
  },
  {
   "cell_type": "code",
   "execution_count": 8,
   "id": "fc92d490",
   "metadata": {},
   "outputs": [],
   "source": [
    "#uruTokens[0], #tokenizer.decode(uruTokens[0]) #a confirmation "
   ]
  },
  {
   "cell_type": "markdown",
   "id": "7e8df3c7",
   "metadata": {},
   "source": [
    "### To perform some sentiment analysis, let's pass this to our model"
   ]
  },
  {
   "cell_type": "code",
   "execution_count": 9,
   "id": "0e30cc16",
   "metadata": {},
   "outputs": [
    {
     "data": {
      "text/plain": [
       "tensor([[ 0.8948,  0.4147, -0.0285, -0.4182, -0.8286]],\n",
       "       grad_fn=<AddmmBackward0>)"
      ]
     },
     "execution_count": 9,
     "metadata": {},
     "output_type": "execute_result"
    }
   ],
   "source": [
    "#Pass our tokens to our model\n",
    "result = model(uruTokens)\n",
    "result.logits"
   ]
  },
  {
   "cell_type": "code",
   "execution_count": 10,
   "id": "1029bc69",
   "metadata": {},
   "outputs": [],
   "source": [
    "#Grab our results and convert them to something useful for us\n",
    "#torch.argmax(result.logits)"
   ]
  },
  {
   "cell_type": "code",
   "execution_count": 11,
   "id": "c444ff86",
   "metadata": {},
   "outputs": [],
   "source": [
    "#The highest value represents what position represents the highest sentiment. In  this case, our sentiment score is 4\n",
    "#As berts base is between 1-5, let's convert to an integer and add 1"
   ]
  },
  {
   "cell_type": "code",
   "execution_count": 12,
   "id": "d0c91d07",
   "metadata": {},
   "outputs": [
    {
     "data": {
      "text/plain": [
       "1"
      ]
     },
     "execution_count": 12,
     "metadata": {},
     "output_type": "execute_result"
    }
   ],
   "source": [
    "int(torch.argmax(result.logits))+1"
   ]
  },
  {
   "cell_type": "markdown",
   "id": "ceb28f1b",
   "metadata": {},
   "source": [
    "## 4. Collect Reviews"
   ]
  },
  {
   "cell_type": "code",
   "execution_count": 13,
   "id": "698ad8ae",
   "metadata": {},
   "outputs": [],
   "source": [
    "#r= requests.get('https://www.yelp.com/biz/littl e-lagos-atlanta')\n",
    "#soup = BeautifulSoup(r.text, 'html.parser')\n",
    "#regex= re.compile('.*comment.*')\n",
    "#results = soup.find_all('p', {'class':regex}) #using soup.find_all, we're looking for any's with class matching our regex\n",
    "#always onfirm what it is wrapped in, in this case, wrapped in a <p class= ''comment\n",
    "#reviews = [result.text for result in results] #List comprehension "
   ]
  },
  {
   "cell_type": "code",
   "execution_count": 14,
   "id": "6fbdf762",
   "metadata": {},
   "outputs": [],
   "source": [
    "r= requests.get('https://www.yelp.com/biz/southern-suya-atlanta')\n",
    "soup = BeautifulSoup(r.text, 'html.parser')\n",
    "regex= re.compile('.*comment.*')\n",
    "results = soup.find_all('p', {'class':regex}) #using soup.find_all, we're looking for any's with class matching our regex\n",
    "#always onfirm what it is wrapped in, in this case, wrapped in a <p class= ''comment\n",
    "reviews = [result.text for result in results] #List comprehension  \n"
   ]
  },
  {
   "cell_type": "code",
   "execution_count": null,
   "id": "b1583997",
   "metadata": {},
   "outputs": [],
   "source": []
  },
  {
   "cell_type": "code",
   "execution_count": 15,
   "id": "b532dabc",
   "metadata": {},
   "outputs": [],
   "source": [
    "#I'll get a response code from my requests.get\n",
    "#r.text #everything on that page"
   ]
  },
  {
   "cell_type": "code",
   "execution_count": 16,
   "id": "12d1d29b",
   "metadata": {},
   "outputs": [],
   "source": [
    "#Next, we pass this text, to beautiful soup. The next line of code we've written is soup\n",
    "#Pass r.text into it and then set up our parser\n",
    "#regex downwards go on to extract the specific things we want from the webpage- extract common pattern of 'comment'\n",
    "#Then pass the regex to our soup "
   ]
  },
  {
   "cell_type": "code",
   "execution_count": 17,
   "id": "84238209",
   "metadata": {},
   "outputs": [],
   "source": [
    "#results #all reviews are here- but wrapped in html tags"
   ]
  },
  {
   "cell_type": "code",
   "execution_count": 18,
   "id": "dc7fc9f7",
   "metadata": {},
   "outputs": [
    {
     "data": {
      "text/plain": [
       "'The joloff rice was good. The fish was not fresh and tasted old. Suya was good and well seasoned. The wait was too long. Nearly an hour.'"
      ]
     },
     "execution_count": 18,
     "metadata": {},
     "output_type": "execute_result"
    }
   ],
   "source": [
    "#to get just text, let's look at say our 12th result\n",
    "results[7].text"
   ]
  },
  {
   "cell_type": "code",
   "execution_count": 19,
   "id": "e8b4c071",
   "metadata": {},
   "outputs": [
    {
     "name": "stdout",
     "output_type": "stream",
     "text": [
      "Result 1: If I could give this place more than five stars, I absolutely would! My recent dining experience at this hidden gem was nothing short of extraordinary. From the moment we stepped in, we were greeted with warm smiles and genuine hospitality that made us feel right at home.The staff here went above and beyond to ensure we had a memorable experience. We were a bit indecisive about what to order, but their knowledgeable and friendly server came to our rescue. They enthusiastically recommended a variety of dishes that showcased the best flavors of their culinary offerings.Let's talk about the food; oh my goodness, it was absolutely divine! We took their advice and ordered the beef Suya, Jollof rice, plantains, goat, fried rice, wings, and a side of veggies. Each dish was prepared with meticulous care, bursting with vibrant flavors that had our taste buds dancing in delight.What truly sets this place apart, apart from the exceptional food, is the outstanding customer service. The staff's attention to detail, their genuine passion for their craft, and their eagerness to ensure we had an unforgettable dining experience was truly commendable.I will undoubtedly be back to indulge in their dishes and experience the warmth of their hospitality once again. Thank you for an unforgettable experience!\n",
      "Result 2: The food here was mind blowing. So much flavour in every single item we had. The stew sauce was my favourite.\n",
      "Result 3: We were stopping over in Atlanta area for a nights rest.  Saw this place was nearby and it looked interesting.  Food was fantastic.\n",
      "Result 4: The food is tasty and has a kick of spice to it. The service was perfect. Eating in this place is relaxing and clean place to it\n",
      "Result 5: The restaurant is now located at Northlake. They are currently open for take out only. I I had the super swarmed. It's folded in a wrap and has lamb, chicken, beef hotdog with warm spices. The coleslaw brings it all together. It's so good.  The personnel are friendly and full of information concerning the foods. They offer great advice. It's a comfortable place to wait on your food. It's very comfortable and inviting   I will be excited when they have dining room open.  Jodie\n",
      "Result 6: The food is amazing. The grill fish and brisket are totally worth the drive from McDonough. Everything tastes really  good and made to order. The service is outstanding. You are informed of the status of your order. It is a carry out only but staff taking your order and delivering your food is refreshing. The area for pickup is clean and cluttered free. You feel safe getting your items. Jodie\n",
      "Result 7: The joloff rice was good. The fish was not fresh and tasted old. Suya was good and well seasoned. The wait was too long. Nearly an hour.\n"
     ]
    }
   ],
   "source": [
    "for i in range(1, 8):\n",
    "    print(f\"Result {i}: {results[i].text}\")\n"
   ]
  },
  {
   "cell_type": "code",
   "execution_count": 20,
   "id": "01c66022",
   "metadata": {},
   "outputs": [
    {
     "data": {
      "text/plain": [
       "'The food here was mind blowing. So much flavour in every single item we had. The stew sauce was my favourite.'"
      ]
     },
     "execution_count": 20,
     "metadata": {},
     "output_type": "execute_result"
    }
   ],
   "source": [
    "reviews[2]"
   ]
  },
  {
   "cell_type": "markdown",
   "id": "bb307a99",
   "metadata": {},
   "source": [
    "## 5. Load Reviews into a DataFrame and Score Them"
   ]
  },
  {
   "cell_type": "code",
   "execution_count": 21,
   "id": "e0339d54",
   "metadata": {},
   "outputs": [],
   "source": [
    "import numpy as np\n",
    "import pandas as pd"
   ]
  },
  {
   "cell_type": "code",
   "execution_count": 22,
   "id": "7fe3c82c",
   "metadata": {},
   "outputs": [],
   "source": [
    "df= pd.DataFrame(np.array(reviews), columns = ['Review'])"
   ]
  },
  {
   "cell_type": "code",
   "execution_count": 23,
   "id": "eb87b8ff",
   "metadata": {},
   "outputs": [
    {
     "data": {
      "text/html": [
       "<div>\n",
       "<style scoped>\n",
       "    .dataframe tbody tr th:only-of-type {\n",
       "        vertical-align: middle;\n",
       "    }\n",
       "\n",
       "    .dataframe tbody tr th {\n",
       "        vertical-align: top;\n",
       "    }\n",
       "\n",
       "    .dataframe thead th {\n",
       "        text-align: right;\n",
       "    }\n",
       "</style>\n",
       "<table border=\"1\" class=\"dataframe\">\n",
       "  <thead>\n",
       "    <tr style=\"text-align: right;\">\n",
       "      <th></th>\n",
       "      <th>Review</th>\n",
       "    </tr>\n",
       "  </thead>\n",
       "  <tbody>\n",
       "    <tr>\n",
       "      <th>0</th>\n",
       "      <td>I had no idea what beef suya was but I was ama...</td>\n",
       "    </tr>\n",
       "    <tr>\n",
       "      <th>1</th>\n",
       "      <td>If I could give this place more than five star...</td>\n",
       "    </tr>\n",
       "    <tr>\n",
       "      <th>2</th>\n",
       "      <td>The food here was mind blowing. So much flavou...</td>\n",
       "    </tr>\n",
       "    <tr>\n",
       "      <th>3</th>\n",
       "      <td>We were stopping over in Atlanta area for a ni...</td>\n",
       "    </tr>\n",
       "    <tr>\n",
       "      <th>4</th>\n",
       "      <td>The food is tasty and has a kick of spice to i...</td>\n",
       "    </tr>\n",
       "    <tr>\n",
       "      <th>5</th>\n",
       "      <td>The restaurant is now located at Northlake. Th...</td>\n",
       "    </tr>\n",
       "    <tr>\n",
       "      <th>6</th>\n",
       "      <td>The food is amazing. The grill fish and briske...</td>\n",
       "    </tr>\n",
       "    <tr>\n",
       "      <th>7</th>\n",
       "      <td>The joloff rice was good. The fish was not fre...</td>\n",
       "    </tr>\n",
       "    <tr>\n",
       "      <th>8</th>\n",
       "      <td>They do not do dine in. We came all the way fr...</td>\n",
       "    </tr>\n",
       "    <tr>\n",
       "      <th>9</th>\n",
       "      <td>ok peeps check this out.Took some folks from o...</td>\n",
       "    </tr>\n",
       "    <tr>\n",
       "      <th>10</th>\n",
       "      <td>Absolutely loved the food and environment. Eve...</td>\n",
       "    </tr>\n",
       "  </tbody>\n",
       "</table>\n",
       "</div>"
      ],
      "text/plain": [
       "                                               Review\n",
       "0   I had no idea what beef suya was but I was ama...\n",
       "1   If I could give this place more than five star...\n",
       "2   The food here was mind blowing. So much flavou...\n",
       "3   We were stopping over in Atlanta area for a ni...\n",
       "4   The food is tasty and has a kick of spice to i...\n",
       "5   The restaurant is now located at Northlake. Th...\n",
       "6   The food is amazing. The grill fish and briske...\n",
       "7   The joloff rice was good. The fish was not fre...\n",
       "8   They do not do dine in. We came all the way fr...\n",
       "9   ok peeps check this out.Took some folks from o...\n",
       "10  Absolutely loved the food and environment. Eve..."
      ]
     },
     "execution_count": 23,
     "metadata": {},
     "output_type": "execute_result"
    }
   ],
   "source": [
    "df"
   ]
  },
  {
   "cell_type": "code",
   "execution_count": 24,
   "id": "a4ce1a25",
   "metadata": {},
   "outputs": [
    {
     "data": {
      "text/plain": [
       "\"I had no idea what beef suya was but I was amazed at how good it is.  Warning that it's spicy though.  The coconut rice came with a red stew sauce that was delicious as well.  I will definitely go back again.I gave it 5 stars because I like to support food that's beyond the ordinary.\""
      ]
     },
     "execution_count": 24,
     "metadata": {},
     "output_type": "execute_result"
    }
   ],
   "source": [
    "#df.iloc[0]\n",
    "df['Review'].iloc[0] #Grabbed each review and stored it into our dataframe"
   ]
  },
  {
   "cell_type": "markdown",
   "id": "cc9c626d",
   "metadata": {},
   "source": [
    "##We're able to take this block of text and pass it to our tokenizer\n",
    "\n",
    "##Then pass, the tokenizer to our model for Sequence Classification"
   ]
  },
  {
   "cell_type": "code",
   "execution_count": 25,
   "id": "1c6d4078",
   "metadata": {},
   "outputs": [],
   "source": [
    "#Let's define a function to take any of our reviews and output its sentiment\n",
    "def sentiment_score(anyreview):\n",
    "    urutokens = tokenizer.encode(anyreview, return_tensors = \"pt\")\n",
    "    result = model(urutokens)\n",
    "    return int(torch.argmax(result.logits))+1"
   ]
  },
  {
   "cell_type": "code",
   "execution_count": 26,
   "id": "82f0898e",
   "metadata": {},
   "outputs": [
    {
     "data": {
      "text/plain": [
       "5"
      ]
     },
     "execution_count": 26,
     "metadata": {},
     "output_type": "execute_result"
    }
   ],
   "source": [
    "#for an individual indexed review\n",
    "sentiment_score(df['Review'].iloc[1])"
   ]
  },
  {
   "cell_type": "code",
   "execution_count": 27,
   "id": "bdc66ff8",
   "metadata": {},
   "outputs": [
    {
     "data": {
      "text/html": [
       "<div>\n",
       "<style scoped>\n",
       "    .dataframe tbody tr th:only-of-type {\n",
       "        vertical-align: middle;\n",
       "    }\n",
       "\n",
       "    .dataframe tbody tr th {\n",
       "        vertical-align: top;\n",
       "    }\n",
       "\n",
       "    .dataframe thead th {\n",
       "        text-align: right;\n",
       "    }\n",
       "</style>\n",
       "<table border=\"1\" class=\"dataframe\">\n",
       "  <thead>\n",
       "    <tr style=\"text-align: right;\">\n",
       "      <th></th>\n",
       "      <th>Review</th>\n",
       "      <th>sentiment</th>\n",
       "    </tr>\n",
       "  </thead>\n",
       "  <tbody>\n",
       "    <tr>\n",
       "      <th>0</th>\n",
       "      <td>I had no idea what beef suya was but I was ama...</td>\n",
       "      <td>4</td>\n",
       "    </tr>\n",
       "    <tr>\n",
       "      <th>1</th>\n",
       "      <td>If I could give this place more than five star...</td>\n",
       "      <td>5</td>\n",
       "    </tr>\n",
       "    <tr>\n",
       "      <th>2</th>\n",
       "      <td>The food here was mind blowing. So much flavou...</td>\n",
       "      <td>5</td>\n",
       "    </tr>\n",
       "    <tr>\n",
       "      <th>3</th>\n",
       "      <td>We were stopping over in Atlanta area for a ni...</td>\n",
       "      <td>5</td>\n",
       "    </tr>\n",
       "    <tr>\n",
       "      <th>4</th>\n",
       "      <td>The food is tasty and has a kick of spice to i...</td>\n",
       "      <td>5</td>\n",
       "    </tr>\n",
       "    <tr>\n",
       "      <th>5</th>\n",
       "      <td>The restaurant is now located at Northlake. Th...</td>\n",
       "      <td>5</td>\n",
       "    </tr>\n",
       "    <tr>\n",
       "      <th>6</th>\n",
       "      <td>The food is amazing. The grill fish and briske...</td>\n",
       "      <td>5</td>\n",
       "    </tr>\n",
       "    <tr>\n",
       "      <th>7</th>\n",
       "      <td>The joloff rice was good. The fish was not fre...</td>\n",
       "      <td>3</td>\n",
       "    </tr>\n",
       "    <tr>\n",
       "      <th>8</th>\n",
       "      <td>They do not do dine in. We came all the way fr...</td>\n",
       "      <td>1</td>\n",
       "    </tr>\n",
       "    <tr>\n",
       "      <th>9</th>\n",
       "      <td>ok peeps check this out.Took some folks from o...</td>\n",
       "      <td>3</td>\n",
       "    </tr>\n",
       "    <tr>\n",
       "      <th>10</th>\n",
       "      <td>Absolutely loved the food and environment. Eve...</td>\n",
       "      <td>5</td>\n",
       "    </tr>\n",
       "  </tbody>\n",
       "</table>\n",
       "</div>"
      ],
      "text/plain": [
       "                                               Review  sentiment\n",
       "0   I had no idea what beef suya was but I was ama...          4\n",
       "1   If I could give this place more than five star...          5\n",
       "2   The food here was mind blowing. So much flavou...          5\n",
       "3   We were stopping over in Atlanta area for a ni...          5\n",
       "4   The food is tasty and has a kick of spice to i...          5\n",
       "5   The restaurant is now located at Northlake. Th...          5\n",
       "6   The food is amazing. The grill fish and briske...          5\n",
       "7   The joloff rice was good. The fish was not fre...          3\n",
       "8   They do not do dine in. We came all the way fr...          1\n",
       "9   ok peeps check this out.Took some folks from o...          3\n",
       "10  Absolutely loved the food and environment. Eve...          5"
      ]
     },
     "execution_count": 27,
     "metadata": {},
     "output_type": "execute_result"
    }
   ],
   "source": [
    "#We'll use a lamda function to iterate over all reviews and attach their sentiments\n",
    "#English- on the dataframe 'Review', take each element and apply our function to it which gives the sentiment\n",
    "df['sentiment']= df['Review'].apply(lambda x: sentiment_score(x[:512]))\n",
    "df"
   ]
  },
  {
   "cell_type": "code",
   "execution_count": 28,
   "id": "c735335b",
   "metadata": {},
   "outputs": [
    {
     "data": {
      "text/plain": [
       "\"If I could give this place more than five stars, I absolutely would! My recent dining experience at this hidden gem was nothing short of extraordinary. From the moment we stepped in, we were greeted with warm smiles and genuine hospitality that made us feel right at home.The staff here went above and beyond to ensure we had a memorable experience. We were a bit indecisive about what to order, but their knowledgeable and friendly server came to our rescue. They enthusiastically recommended a variety of dishes that showcased the best flavors of their culinary offerings.Let's talk about the food; oh my goodness, it was absolutely divine! We took their advice and ordered the beef Suya, Jollof rice, plantains, goat, fried rice, wings, and a side of veggies. Each dish was prepared with meticulous care, bursting with vibrant flavors that had our taste buds dancing in delight.What truly sets this place apart, apart from the exceptional food, is the outstanding customer service. The staff's attention to detail, their genuine passion for their craft, and their eagerness to ensure we had an unforgettable dining experience was truly commendable.I will undoubtedly be back to indulge in their dishes and experience the warmth of their hospitality once again. Thank you for an unforgettable experience!\""
      ]
     },
     "execution_count": 28,
     "metadata": {},
     "output_type": "execute_result"
    }
   ],
   "source": [
    "#let's take a look at individuals\n",
    "df['Review'].iloc[1]"
   ]
  },
  {
   "cell_type": "code",
   "execution_count": null,
   "id": "8129e25f",
   "metadata": {},
   "outputs": [],
   "source": []
  }
 ],
 "metadata": {
  "kernelspec": {
   "display_name": "Python 3 (ipykernel)",
   "language": "python",
   "name": "python3"
  },
  "language_info": {
   "codemirror_mode": {
    "name": "ipython",
    "version": 3
   },
   "file_extension": ".py",
   "mimetype": "text/x-python",
   "name": "python",
   "nbconvert_exporter": "python",
   "pygments_lexer": "ipython3",
   "version": "3.11.7"
  }
 },
 "nbformat": 4,
 "nbformat_minor": 5
}
