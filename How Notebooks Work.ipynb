{
 "cells": [
  {
   "cell_type": "code",
   "execution_count": 3,
   "id": "07e11cd8",
   "metadata": {},
   "outputs": [
    {
     "data": {
      "text/plain": [
       "'C:\\\\Users\\\\uruon\\\\Downloads\\\\Full Stack Data Scientist'"
      ]
     },
     "execution_count": 3,
     "metadata": {},
     "output_type": "execute_result"
    }
   ],
   "source": [
    "pwd"
   ]
  },
  {
   "cell_type": "code",
   "execution_count": 4,
   "id": "f190f7f4",
   "metadata": {
    "scrolled": true
   },
   "outputs": [
    {
     "name": "stdout",
     "output_type": "stream",
     "text": [
      "The Zen of Python, by Tim Peters\n",
      "\n",
      "Beautiful is better than ugly.\n",
      "Explicit is better than implicit.\n",
      "Simple is better than complex.\n",
      "Complex is better than complicated.\n",
      "Flat is better than nested.\n",
      "Sparse is better than dense.\n",
      "Readability counts.\n",
      "Special cases aren't special enough to break the rules.\n",
      "Although practicality beats purity.\n",
      "Errors should never pass silently.\n",
      "Unless explicitly silenced.\n",
      "In the face of ambiguity, refuse the temptation to guess.\n",
      "There should be one-- and preferably only one --obvious way to do it.\n",
      "Although that way may not be obvious at first unless you're Dutch.\n",
      "Now is better than never.\n",
      "Although never is often better than *right* now.\n",
      "If the implementation is hard to explain, it's a bad idea.\n",
      "If the implementation is easy to explain, it may be a good idea.\n",
      "Namespaces are one honking great idea -- let's do more of those!\n"
     ]
    }
   ],
   "source": [
    "import this"
   ]
  },
  {
   "cell_type": "markdown",
   "id": "305be2da",
   "metadata": {},
   "source": [
    "What is a Variable?"
   ]
  },
  {
   "cell_type": "code",
   "execution_count": 5,
   "id": "063c608a",
   "metadata": {},
   "outputs": [
    {
     "name": "stdout",
     "output_type": "stream",
     "text": [
      "This is my first program\n"
     ]
    }
   ],
   "source": [
    "print(\"This is my first program\")"
   ]
  },
  {
   "cell_type": "code",
   "execution_count": null,
   "id": "4cb5c7c7",
   "metadata": {},
   "outputs": [],
   "source": [
    "len()"
   ]
  },
  {
   "cell_type": "code",
   "execution_count": 6,
   "id": "fefab3e2",
   "metadata": {},
   "outputs": [
    {
     "data": {
      "text/plain": [
       "3"
      ]
     },
     "execution_count": 6,
     "metadata": {},
     "output_type": "execute_result"
    }
   ],
   "source": [
    "1+2"
   ]
  },
  {
   "cell_type": "code",
   "execution_count": 7,
   "id": "e60dbd87",
   "metadata": {},
   "outputs": [
    {
     "data": {
      "text/plain": [
       "0.42857142857142855"
      ]
     },
     "execution_count": 7,
     "metadata": {},
     "output_type": "execute_result"
    }
   ],
   "source": [
    "3/7"
   ]
  },
  {
   "cell_type": "code",
   "execution_count": 8,
   "id": "2607c475",
   "metadata": {},
   "outputs": [],
   "source": [
    "#Scripting and Oops Concepts- Linked to Modular coding"
   ]
  },
  {
   "cell_type": "code",
   "execution_count": 9,
   "id": "7058a64b",
   "metadata": {},
   "outputs": [
    {
     "data": {
      "text/plain": [
       "3"
      ]
     },
     "execution_count": 9,
     "metadata": {},
     "output_type": "execute_result"
    }
   ],
   "source": [
    "1+2"
   ]
  },
  {
   "cell_type": "code",
   "execution_count": 10,
   "id": "b4928dda",
   "metadata": {},
   "outputs": [],
   "source": [
    "a = 10"
   ]
  },
  {
   "cell_type": "code",
   "execution_count": 11,
   "id": "f1537f5b",
   "metadata": {},
   "outputs": [],
   "source": [
    "uru = 4564"
   ]
  },
  {
   "cell_type": "code",
   "execution_count": 12,
   "id": "933be496",
   "metadata": {},
   "outputs": [],
   "source": [
    "re = 23423"
   ]
  },
  {
   "cell_type": "code",
   "execution_count": 13,
   "id": "73fc13f5",
   "metadata": {},
   "outputs": [
    {
     "data": {
      "text/plain": [
       "4564"
      ]
     },
     "execution_count": 13,
     "metadata": {},
     "output_type": "execute_result"
    }
   ],
   "source": [
    "uru"
   ]
  },
  {
   "cell_type": "code",
   "execution_count": 14,
   "id": "077dea17",
   "metadata": {},
   "outputs": [
    {
     "data": {
      "text/plain": [
       "int"
      ]
     },
     "execution_count": 14,
     "metadata": {},
     "output_type": "execute_result"
    }
   ],
   "source": [
    "type(re)"
   ]
  },
  {
   "cell_type": "code",
   "execution_count": 15,
   "id": "98bd98ee",
   "metadata": {},
   "outputs": [],
   "source": [
    "b = 45.67"
   ]
  },
  {
   "cell_type": "code",
   "execution_count": 16,
   "id": "b464b238",
   "metadata": {},
   "outputs": [
    {
     "data": {
      "text/plain": [
       "float"
      ]
     },
     "execution_count": 16,
     "metadata": {},
     "output_type": "execute_result"
    }
   ],
   "source": [
    "type(b)"
   ]
  },
  {
   "cell_type": "code",
   "execution_count": 17,
   "id": "b6361fcc",
   "metadata": {},
   "outputs": [],
   "source": [
    "c = \"uru\""
   ]
  },
  {
   "cell_type": "code",
   "execution_count": 19,
   "id": "42e6dd2d",
   "metadata": {},
   "outputs": [
    {
     "data": {
      "text/plain": [
       "str"
      ]
     },
     "execution_count": 19,
     "metadata": {},
     "output_type": "execute_result"
    }
   ],
   "source": [
    "type(c)"
   ]
  },
  {
   "cell_type": "code",
   "execution_count": 20,
   "id": "c6b045f7",
   "metadata": {},
   "outputs": [],
   "source": [
    "d = 5 + 6j #j is the root of -1"
   ]
  },
  {
   "cell_type": "code",
   "execution_count": 21,
   "id": "24058330",
   "metadata": {},
   "outputs": [
    {
     "data": {
      "text/plain": [
       "(5+6j)"
      ]
     },
     "execution_count": 21,
     "metadata": {},
     "output_type": "execute_result"
    }
   ],
   "source": [
    "d"
   ]
  },
  {
   "cell_type": "code",
   "execution_count": 22,
   "id": "3f6f6c13",
   "metadata": {},
   "outputs": [
    {
     "data": {
      "text/plain": [
       "complex"
      ]
     },
     "execution_count": 22,
     "metadata": {},
     "output_type": "execute_result"
    }
   ],
   "source": [
    "type(d)"
   ]
  },
  {
   "cell_type": "code",
   "execution_count": 24,
   "id": "b6a9973a",
   "metadata": {},
   "outputs": [],
   "source": [
    "e = 'uru'"
   ]
  },
  {
   "cell_type": "code",
   "execution_count": 25,
   "id": "40f849e0",
   "metadata": {},
   "outputs": [
    {
     "data": {
      "text/plain": [
       "'uru'"
      ]
     },
     "execution_count": 25,
     "metadata": {},
     "output_type": "execute_result"
    }
   ],
   "source": [
    "c"
   ]
  },
  {
   "cell_type": "code",
   "execution_count": 26,
   "id": "2abc3597",
   "metadata": {},
   "outputs": [
    {
     "ename": "NameError",
     "evalue": "name 'swjoeersgrgndfvjvvjdjfsdsf' is not defined",
     "output_type": "error",
     "traceback": [
      "\u001b[1;31m---------------------------------------------------------------------------\u001b[0m",
      "\u001b[1;31mNameError\u001b[0m                                 Traceback (most recent call last)",
      "Cell \u001b[1;32mIn[26], line 1\u001b[0m\n\u001b[1;32m----> 1\u001b[0m n\u001b[38;5;241m=\u001b[39m swjoeersgrgndfvjvvjdjfsdsf\n",
      "\u001b[1;31mNameError\u001b[0m: name 'swjoeersgrgndfvjvvjdjfsdsf' is not defined"
     ]
    }
   ],
   "source": [
    "n= swjoeersgrgndfvjvvjdjfsdsf"
   ]
  },
  {
   "cell_type": "code",
   "execution_count": 27,
   "id": "4561cfa3",
   "metadata": {},
   "outputs": [],
   "source": [
    "n = 'swjoeersgrgndfvjvvjdjfsdsf'"
   ]
  },
  {
   "cell_type": "code",
   "execution_count": 28,
   "id": "9c338d5e",
   "metadata": {},
   "outputs": [],
   "source": [
    "#Create a Boolean Variable \n",
    "g = True"
   ]
  },
  {
   "cell_type": "code",
   "execution_count": 29,
   "id": "ff1237de",
   "metadata": {},
   "outputs": [
    {
     "data": {
      "text/plain": [
       "bool"
      ]
     },
     "execution_count": 29,
     "metadata": {},
     "output_type": "execute_result"
    }
   ],
   "source": [
    "type(g)"
   ]
  },
  {
   "cell_type": "code",
   "execution_count": 30,
   "id": "36ec6d97",
   "metadata": {},
   "outputs": [
    {
     "ename": "SyntaxError",
     "evalue": "starred assignment target must be in a list or tuple (456700294.py, line 1)",
     "output_type": "error",
     "traceback": [
      "\u001b[1;36m  Cell \u001b[1;32mIn[30], line 1\u001b[1;36m\u001b[0m\n\u001b[1;33m    *a = 67\u001b[0m\n\u001b[1;37m    ^\u001b[0m\n\u001b[1;31mSyntaxError\u001b[0m\u001b[1;31m:\u001b[0m starred assignment target must be in a list or tuple\n"
     ]
    }
   ],
   "source": [
    "*a = 67"
   ]
  },
  {
   "cell_type": "code",
   "execution_count": 31,
   "id": "8a72ac93",
   "metadata": {},
   "outputs": [],
   "source": [
    "_a = 45"
   ]
  },
  {
   "cell_type": "code",
   "execution_count": 33,
   "id": "39697f6e",
   "metadata": {},
   "outputs": [],
   "source": [
    "a = 34"
   ]
  },
  {
   "cell_type": "code",
   "execution_count": 34,
   "id": "5bc2431d",
   "metadata": {},
   "outputs": [
    {
     "data": {
      "text/plain": [
       "34"
      ]
     },
     "execution_count": 34,
     "metadata": {},
     "output_type": "execute_result"
    }
   ],
   "source": [
    "a"
   ]
  },
  {
   "cell_type": "code",
   "execution_count": 36,
   "id": "ac25841b",
   "metadata": {},
   "outputs": [],
   "source": [
    "a = 523\n",
    "b= \"uru\"\n",
    "c = 65 +4j\n",
    "d = False\n",
    "e = 45.33"
   ]
  },
  {
   "cell_type": "code",
   "execution_count": 37,
   "id": "6278b592",
   "metadata": {},
   "outputs": [
    {
     "data": {
      "text/plain": [
       "523"
      ]
     },
     "execution_count": 37,
     "metadata": {},
     "output_type": "execute_result"
    }
   ],
   "source": [
    "a"
   ]
  },
  {
   "cell_type": "code",
   "execution_count": 38,
   "id": "e9deab1d",
   "metadata": {},
   "outputs": [],
   "source": [
    "a1 = 7363"
   ]
  },
  {
   "cell_type": "code",
   "execution_count": 39,
   "id": "5025778f",
   "metadata": {},
   "outputs": [
    {
     "data": {
      "text/plain": [
       "7886"
      ]
     },
     "execution_count": 39,
     "metadata": {},
     "output_type": "execute_result"
    }
   ],
   "source": [
    "a + a1"
   ]
  },
  {
   "cell_type": "code",
   "execution_count": null,
   "id": "9f9f4b68",
   "metadata": {},
   "outputs": [],
   "source": [
    "a,b,c,d,e = 34"
   ]
  }
 ],
 "metadata": {
  "kernelspec": {
   "display_name": "Python 3 (ipykernel)",
   "language": "python",
   "name": "python3"
  },
  "language_info": {
   "codemirror_mode": {
    "name": "ipython",
    "version": 3
   },
   "file_extension": ".py",
   "mimetype": "text/x-python",
   "name": "python",
   "nbconvert_exporter": "python",
   "pygments_lexer": "ipython3",
   "version": "3.11.5"
  }
 },
 "nbformat": 4,
 "nbformat_minor": 5
}
